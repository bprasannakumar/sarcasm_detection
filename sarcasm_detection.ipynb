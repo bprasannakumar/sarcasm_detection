{
 "cells": [
  {
   "cell_type": "code",
   "execution_count": 36,
   "metadata": {},
   "outputs": [],
   "source": [
    "import numpy as np\n",
    "import pandas as pd\n",
    "import matplotlib.pyplot as plt\n",
    "import nltk\n",
    "import re"
   ]
  },
  {
   "cell_type": "code",
   "execution_count": 43,
   "metadata": {},
   "outputs": [
    {
     "name": "stderr",
     "output_type": "stream",
     "text": [
      "[nltk_data] Downloading package wordnet to\n",
      "[nltk_data]     C:\\Users\\prasa\\AppData\\Roaming\\nltk_data...\n",
      "[nltk_data]   Package wordnet is already up-to-date!\n",
      "[nltk_data] Downloading package punkt to\n",
      "[nltk_data]     C:\\Users\\prasa\\AppData\\Roaming\\nltk_data...\n",
      "[nltk_data]   Unzipping tokenizers\\punkt.zip.\n"
     ]
    },
    {
     "data": {
      "text/plain": [
       "True"
      ]
     },
     "execution_count": 43,
     "metadata": {},
     "output_type": "execute_result"
    }
   ],
   "source": [
    "nltk.download('wordnet')\n",
    "nltk.download('punkt')"
   ]
  },
  {
   "cell_type": "code",
   "execution_count": 44,
   "metadata": {},
   "outputs": [],
   "source": [
    "from sklearn.model_selection import train_test_split\n",
    "from nltk.corpus import stopwords \n",
    "from nltk.tokenize import word_tokenize \n",
    "from nltk.stem import WordNetLemmatizer"
   ]
  },
  {
   "cell_type": "code",
   "execution_count": 45,
   "metadata": {},
   "outputs": [],
   "source": [
    "import tensorflow as tf\n",
    "from tensorflow import keras\n",
    "from tensorflow.keras.preprocessing.text import Tokenizer\n",
    "from tensorflow.keras.preprocessing.sequence import pad_sequences"
   ]
  },
  {
   "cell_type": "code",
   "execution_count": 95,
   "metadata": {},
   "outputs": [],
   "source": [
    "#load data\n",
    "# data can be downloaded from https://www.kaggle.com/rmisra/news-headlines-dataset-for-sarcasm-detection\n",
    "data_path = 'E:\\AllPrograms\\Datasets\\Sarcasm_Headlines_Dataset.json\\Sarcasm_Headlines_Dataset.json'\n",
    "data = pd.read_json(data_path, lines=True)"
   ]
  },
  {
   "cell_type": "code",
   "execution_count": 47,
   "metadata": {},
   "outputs": [
    {
     "data": {
      "text/html": [
       "<div>\n",
       "<style scoped>\n",
       "    .dataframe tbody tr th:only-of-type {\n",
       "        vertical-align: middle;\n",
       "    }\n",
       "\n",
       "    .dataframe tbody tr th {\n",
       "        vertical-align: top;\n",
       "    }\n",
       "\n",
       "    .dataframe thead th {\n",
       "        text-align: right;\n",
       "    }\n",
       "</style>\n",
       "<table border=\"1\" class=\"dataframe\">\n",
       "  <thead>\n",
       "    <tr style=\"text-align: right;\">\n",
       "      <th></th>\n",
       "      <th>article_link</th>\n",
       "      <th>headline</th>\n",
       "      <th>is_sarcastic</th>\n",
       "    </tr>\n",
       "  </thead>\n",
       "  <tbody>\n",
       "    <tr>\n",
       "      <th>0</th>\n",
       "      <td>https://www.huffingtonpost.com/entry/versace-b...</td>\n",
       "      <td>former versace store clerk sues over secret 'b...</td>\n",
       "      <td>0</td>\n",
       "    </tr>\n",
       "    <tr>\n",
       "      <th>1</th>\n",
       "      <td>https://www.huffingtonpost.com/entry/roseanne-...</td>\n",
       "      <td>the 'roseanne' revival catches up to our thorn...</td>\n",
       "      <td>0</td>\n",
       "    </tr>\n",
       "    <tr>\n",
       "      <th>2</th>\n",
       "      <td>https://local.theonion.com/mom-starting-to-fea...</td>\n",
       "      <td>mom starting to fear son's web series closest ...</td>\n",
       "      <td>1</td>\n",
       "    </tr>\n",
       "    <tr>\n",
       "      <th>3</th>\n",
       "      <td>https://politics.theonion.com/boehner-just-wan...</td>\n",
       "      <td>boehner just wants wife to listen, not come up...</td>\n",
       "      <td>1</td>\n",
       "    </tr>\n",
       "    <tr>\n",
       "      <th>4</th>\n",
       "      <td>https://www.huffingtonpost.com/entry/jk-rowlin...</td>\n",
       "      <td>j.k. rowling wishes snape happy birthday in th...</td>\n",
       "      <td>0</td>\n",
       "    </tr>\n",
       "  </tbody>\n",
       "</table>\n",
       "</div>"
      ],
      "text/plain": [
       "                                        article_link  \\\n",
       "0  https://www.huffingtonpost.com/entry/versace-b...   \n",
       "1  https://www.huffingtonpost.com/entry/roseanne-...   \n",
       "2  https://local.theonion.com/mom-starting-to-fea...   \n",
       "3  https://politics.theonion.com/boehner-just-wan...   \n",
       "4  https://www.huffingtonpost.com/entry/jk-rowlin...   \n",
       "\n",
       "                                            headline  is_sarcastic  \n",
       "0  former versace store clerk sues over secret 'b...             0  \n",
       "1  the 'roseanne' revival catches up to our thorn...             0  \n",
       "2  mom starting to fear son's web series closest ...             1  \n",
       "3  boehner just wants wife to listen, not come up...             1  \n",
       "4  j.k. rowling wishes snape happy birthday in th...             0  "
      ]
     },
     "execution_count": 47,
     "metadata": {},
     "output_type": "execute_result"
    }
   ],
   "source": [
    "data.head()"
   ]
  },
  {
   "cell_type": "code",
   "execution_count": 48,
   "metadata": {},
   "outputs": [],
   "source": [
    "#extract the headlines\n",
    "X = data['headline']\n",
    "y = data['is_sarcastic']"
   ]
  },
  {
   "cell_type": "code",
   "execution_count": 49,
   "metadata": {},
   "outputs": [
    {
     "data": {
      "text/plain": [
       "0    former versace store clerk sues over secret 'b...\n",
       "1    the 'roseanne' revival catches up to our thorn...\n",
       "2    mom starting to fear son's web series closest ...\n",
       "3    boehner just wants wife to listen, not come up...\n",
       "4    j.k. rowling wishes snape happy birthday in th...\n",
       "Name: headline, dtype: object"
      ]
     },
     "execution_count": 49,
     "metadata": {},
     "output_type": "execute_result"
    }
   ],
   "source": [
    "X.head()"
   ]
  },
  {
   "cell_type": "code",
   "execution_count": 50,
   "metadata": {
    "scrolled": true
   },
   "outputs": [],
   "source": [
    "#download stop words from nlkt"
   ]
  },
  {
   "cell_type": "code",
   "execution_count": 51,
   "metadata": {},
   "outputs": [],
   "source": [
    "stop_words = set(stopwords.words('english')) "
   ]
  },
  {
   "cell_type": "code",
   "execution_count": 52,
   "metadata": {},
   "outputs": [],
   "source": [
    "# we will words preserver the word \"not\", as it would chnage meaning\n",
    "stop_words.remove('not')"
   ]
  },
  {
   "cell_type": "code",
   "execution_count": 67,
   "metadata": {},
   "outputs": [],
   "source": [
    "#preprocess data, remove stopwords, perform stemming and lemmatization\n",
    "def process(X, tokenizer, lemmatizer):\n",
    "    result = []\n",
    "    for doc in X:\n",
    "        token_list = []\n",
    "        doc = doc.lower()\n",
    "        #replace words \"n't\" with not\n",
    "        doc = re.sub(\"n't\", ' not ', doc)\n",
    "        for token in tokenizer(doc):\n",
    "            if token not in stop_words and len(token) > 2:\n",
    "                lemma = lemmatizer.lemmatize(token)                \n",
    "                token_list.append(lemma)\n",
    "        result.append(\" \".join(token_list))\n",
    "    return result"
   ]
  },
  {
   "cell_type": "code",
   "execution_count": 68,
   "metadata": {},
   "outputs": [],
   "source": [
    "X_processed = process(X, word_tokenize, WordNetLemmatizer())"
   ]
  },
  {
   "cell_type": "code",
   "execution_count": 69,
   "metadata": {},
   "outputs": [],
   "source": [
    "# split the data into training and testing data\n",
    "X_train, X_test, y_train, y_test = train_test_split(X_processed, y, test_size=0.20, random_state=42)"
   ]
  },
  {
   "cell_type": "code",
   "execution_count": 70,
   "metadata": {},
   "outputs": [
    {
     "name": "stdout",
     "output_type": "stream",
     "text": [
      "x_train_shape: 21367\n",
      "y_train_shape: 21367\n",
      "x_test_shape: 5342\n",
      "y_test_shape: 5342\n"
     ]
    }
   ],
   "source": [
    "#check train and test size\n",
    "print('x_train_shape:', len(X_train))\n",
    "print('y_train_shape:', len(y_train))\n",
    "print('x_test_shape:', len(X_test))\n",
    "print('y_test_shape:', len(y_test))"
   ]
  },
  {
   "cell_type": "code",
   "execution_count": 71,
   "metadata": {},
   "outputs": [],
   "source": [
    "#define the cosntants\n",
    "VOCAB_SIZE = 10000\n",
    "EMBEDDING_DIM = 16\n",
    "MAX_LENGTH = 100\n",
    "TRUNC_TYPE_POST = 'pre'\n",
    "OOV_TOKEN = \"<OOV>\""
   ]
  },
  {
   "cell_type": "code",
   "execution_count": 72,
   "metadata": {},
   "outputs": [],
   "source": [
    "#let's preprocess the data, learn vocab, convert into document term matrix\n",
    "tokenizer = Tokenizer(num_words=VOCAB_SIZE, oov_token=OOV_TOKEN)\n",
    "tokenizer.fit_on_texts(X_train)"
   ]
  },
  {
   "cell_type": "code",
   "execution_count": 73,
   "metadata": {},
   "outputs": [],
   "source": [
    "word_index = tokenizer.word_index"
   ]
  },
  {
   "cell_type": "code",
   "execution_count": 74,
   "metadata": {},
   "outputs": [
    {
     "name": "stdout",
     "output_type": "stream",
     "text": [
      "('<OOV>', 1)\n",
      "('not', 2)\n",
      "('trump', 3)\n",
      "('new', 4)\n",
      "('man', 5)\n",
      "('woman', 6)\n",
      "('year', 7)\n",
      "('say', 8)\n",
      "('report', 9)\n",
      "('one', 10)\n"
     ]
    }
   ],
   "source": [
    "#print first 10 words in the dictionary\n",
    "i = 0\n",
    "for item in word_index.items():\n",
    "    if i >= 10:\n",
    "        break\n",
    "    print(item)\n",
    "    i += 1"
   ]
  },
  {
   "cell_type": "code",
   "execution_count": 75,
   "metadata": {},
   "outputs": [],
   "source": [
    "#get the sequences from text and do padding\n",
    "X_train_sequences = tokenizer.texts_to_sequences(X_train)\n",
    "X_train_pad_sequences = pad_sequences(sequences=X_train_sequences, maxlen=MAX_LENGTH, truncating=TRUNC_TYPE_POST)\n",
    "X_test_sequences = tokenizer.texts_to_sequences(X_test)\n",
    "X_test_pad_sequences = pad_sequences(sequences=X_test_sequences, maxlen=MAX_LENGTH, truncating=TRUNC_TYPE_POST)"
   ]
  },
  {
   "cell_type": "code",
   "execution_count": 76,
   "metadata": {},
   "outputs": [
    {
     "name": "stdout",
     "output_type": "stream",
     "text": [
      "[   0    0    0    0    0    0    0    0    0    0    0    0    0    0\n",
      "    0    0    0    0    0    0    0    0    0    0    0    0    0    0\n",
      "    0    0    0    0    0    0    0    0    0    0    0    0    0    0\n",
      "    0    0    0    0    0    0    0    0    0    0    0    0    0    0\n",
      "    0    0    0    0    0    0    0    0    0    0    0    0    0    0\n",
      "    0    0    0    0    0    0    0    0    0    0    0    0    0    0\n",
      "    0    0    0    0    0    0    0    0    0  560 3603 3604   27  232\n",
      "  196  577]\n"
     ]
    }
   ],
   "source": [
    "print(X_train_pad_sequences[1])"
   ]
  },
  {
   "cell_type": "code",
   "execution_count": 85,
   "metadata": {},
   "outputs": [],
   "source": [
    "#create model\n",
    "def create_model():    \n",
    "    model = tf.keras.models.Sequential([\n",
    "        tf.keras.layers.Embedding(input_dim=VOCAB_SIZE, output_dim=EMBEDDING_DIM, input_length=MAX_LENGTH),\n",
    "        tf.keras.layers.LSTM(64),\n",
    "        tf.keras.layers.Dense(64, activation='relu'),\n",
    "        tf.keras.layers.Dense(1, activation='sigmoid')])\n",
    "    model.compile(optimizer='adam', loss='binary_crossentropy', metrics=['accuracy'])\n",
    "    return model"
   ]
  },
  {
   "cell_type": "code",
   "execution_count": 86,
   "metadata": {},
   "outputs": [],
   "source": [
    "model = create_model()"
   ]
  },
  {
   "cell_type": "code",
   "execution_count": 87,
   "metadata": {},
   "outputs": [
    {
     "name": "stdout",
     "output_type": "stream",
     "text": [
      "Train on 21367 samples, validate on 5342 samples\n",
      "Epoch 1/50\n",
      "21367/21367 [==============================] - 43s 2ms/sample - loss: 0.5016 - accuracy: 0.7462 - val_loss: 0.4316 - val_accuracy: 0.7960\n",
      "Epoch 2/50\n",
      "21367/21367 [==============================] - 45s 2ms/sample - loss: 0.3162 - accuracy: 0.8654 - val_loss: 0.4571 - val_accuracy: 0.7933\n",
      "Epoch 3/50\n",
      "21367/21367 [==============================] - 43s 2ms/sample - loss: 0.2282 - accuracy: 0.9071 - val_loss: 0.5071 - val_accuracy: 0.7924\n",
      "Epoch 4/50\n",
      "21367/21367 [==============================] - 42s 2ms/sample - loss: 0.1627 - accuracy: 0.9386 - val_loss: 0.5508 - val_accuracy: 0.7900\n",
      "Epoch 5/50\n",
      "21367/21367 [==============================] - 41s 2ms/sample - loss: 0.1227 - accuracy: 0.9546 - val_loss: 0.7129 - val_accuracy: 0.7802\n",
      "Epoch 6/50\n",
      "21367/21367 [==============================] - 41s 2ms/sample - loss: 0.0893 - accuracy: 0.9665 - val_loss: 0.8220 - val_accuracy: 0.7851\n",
      "Epoch 7/50\n",
      "21367/21367 [==============================] - 41s 2ms/sample - loss: 0.0646 - accuracy: 0.9773 - val_loss: 0.9630 - val_accuracy: 0.7776\n",
      "Epoch 8/50\n",
      "21367/21367 [==============================] - 41s 2ms/sample - loss: 0.0500 - accuracy: 0.9822 - val_loss: 1.0539 - val_accuracy: 0.7718\n",
      "Epoch 9/50\n",
      "21367/21367 [==============================] - 41s 2ms/sample - loss: 0.0362 - accuracy: 0.9878 - val_loss: 1.2598 - val_accuracy: 0.7782\n",
      "Epoch 10/50\n",
      "21367/21367 [==============================] - 42s 2ms/sample - loss: 0.0874 - accuracy: 0.9833 - val_loss: 1.2734 - val_accuracy: 0.6795\n",
      "Epoch 11/50\n",
      "21367/21367 [==============================] - 42s 2ms/sample - loss: 0.0397 - accuracy: 0.9861 - val_loss: 1.3500 - val_accuracy: 0.7741\n",
      "Epoch 12/50\n",
      "21367/21367 [==============================] - 44s 2ms/sample - loss: 0.0206 - accuracy: 0.9920 - val_loss: 1.5748 - val_accuracy: 0.7686\n",
      "Epoch 13/50\n",
      "21367/21367 [==============================] - 44s 2ms/sample - loss: 0.0131 - accuracy: 0.9955 - val_loss: 1.6910 - val_accuracy: 0.7656\n",
      "Epoch 14/50\n",
      "21367/21367 [==============================] - 43s 2ms/sample - loss: 0.0105 - accuracy: 0.9964 - val_loss: 1.8672 - val_accuracy: 0.7660\n",
      "Epoch 15/50\n",
      "21367/21367 [==============================] - 43s 2ms/sample - loss: 0.0112 - accuracy: 0.9964 - val_loss: 1.9923 - val_accuracy: 0.7643\n",
      "Epoch 16/50\n",
      "21367/21367 [==============================] - 42s 2ms/sample - loss: 0.0103 - accuracy: 0.9962 - val_loss: 2.0235 - val_accuracy: 0.7628\n",
      "Epoch 17/50\n",
      "21367/21367 [==============================] - 43s 2ms/sample - loss: 0.0110 - accuracy: 0.9962 - val_loss: 1.9068 - val_accuracy: 0.7656\n",
      "Epoch 18/50\n",
      "21367/21367 [==============================] - 42s 2ms/sample - loss: 0.0109 - accuracy: 0.9964 - val_loss: 1.9350 - val_accuracy: 0.7651\n",
      "Epoch 19/50\n",
      "21367/21367 [==============================] - 43s 2ms/sample - loss: 0.0064 - accuracy: 0.9978 - val_loss: 2.1008 - val_accuracy: 0.7699\n",
      "Epoch 20/50\n",
      "21367/21367 [==============================] - 48s 2ms/sample - loss: 0.0036 - accuracy: 0.9989 - val_loss: 2.4856 - val_accuracy: 0.7677\n",
      "Epoch 21/50\n",
      "21367/21367 [==============================] - 46s 2ms/sample - loss: 0.0073 - accuracy: 0.9975 - val_loss: 2.3120 - val_accuracy: 0.7621\n",
      "Epoch 22/50\n",
      "21367/21367 [==============================] - 41s 2ms/sample - loss: 0.0065 - accuracy: 0.9982 - val_loss: 2.3791 - val_accuracy: 0.7653\n",
      "Epoch 23/50\n",
      "21367/21367 [==============================] - 41s 2ms/sample - loss: 0.0025 - accuracy: 0.9991 - val_loss: 2.5358 - val_accuracy: 0.7632\n",
      "Epoch 24/50\n",
      "21367/21367 [==============================] - 46s 2ms/sample - loss: 0.0026 - accuracy: 0.9990 - val_loss: 2.5643 - val_accuracy: 0.7649\n",
      "Epoch 25/50\n",
      "21367/21367 [==============================] - 44s 2ms/sample - loss: 0.0052 - accuracy: 0.9981 - val_loss: 2.3620 - val_accuracy: 0.7645\n",
      "Epoch 26/50\n",
      "21367/21367 [==============================] - 42s 2ms/sample - loss: 0.0057 - accuracy: 0.9978 - val_loss: 2.3043 - val_accuracy: 0.7636\n",
      "Epoch 27/50\n",
      "21367/21367 [==============================] - 43s 2ms/sample - loss: 0.0025 - accuracy: 0.9992 - val_loss: 2.6527 - val_accuracy: 0.7684\n",
      "Epoch 28/50\n",
      "21367/21367 [==============================] - 43s 2ms/sample - loss: 0.0020 - accuracy: 0.9993 - val_loss: 2.9044 - val_accuracy: 0.7645\n",
      "Epoch 29/50\n",
      "21367/21367 [==============================] - 42s 2ms/sample - loss: 0.0032 - accuracy: 0.9990 - val_loss: 2.4055 - val_accuracy: 0.7705\n",
      "Epoch 30/50\n",
      "21367/21367 [==============================] - 42s 2ms/sample - loss: 0.0025 - accuracy: 0.9992 - val_loss: 2.5801 - val_accuracy: 0.7639\n",
      "Epoch 31/50\n",
      "21367/21367 [==============================] - 41s 2ms/sample - loss: 0.0026 - accuracy: 0.9992 - val_loss: 2.4996 - val_accuracy: 0.7366\n",
      "Epoch 32/50\n",
      "21367/21367 [==============================] - 41s 2ms/sample - loss: 0.0650 - accuracy: 0.9907 - val_loss: 1.9960 - val_accuracy: 0.7675\n",
      "Epoch 33/50\n",
      "21367/21367 [==============================] - 41s 2ms/sample - loss: 0.0018 - accuracy: 0.9994 - val_loss: 2.1804 - val_accuracy: 0.7673\n",
      "Epoch 34/50\n",
      "21367/21367 [==============================] - 41s 2ms/sample - loss: 8.3659e-04 - accuracy: 0.9998 - val_loss: 2.2607 - val_accuracy: 0.7688\n",
      "Epoch 35/50\n",
      "21367/21367 [==============================] - 42s 2ms/sample - loss: 5.9888e-04 - accuracy: 0.9999 - val_loss: 2.3412 - val_accuracy: 0.7671\n",
      "Epoch 36/50\n",
      "21367/21367 [==============================] - 41s 2ms/sample - loss: 7.7815e-04 - accuracy: 0.9997 - val_loss: 2.3916 - val_accuracy: 0.7654\n",
      "Epoch 37/50\n",
      "21367/21367 [==============================] - 41s 2ms/sample - loss: 4.6269e-04 - accuracy: 0.9999 - val_loss: 2.4857 - val_accuracy: 0.7662\n",
      "Epoch 38/50\n",
      "21367/21367 [==============================] - 42s 2ms/sample - loss: 7.6255e-04 - accuracy: 0.9998 - val_loss: 2.5163 - val_accuracy: 0.7630\n",
      "Epoch 39/50\n",
      "21367/21367 [==============================] - 44s 2ms/sample - loss: 6.9250e-04 - accuracy: 0.9999 - val_loss: 2.5120 - val_accuracy: 0.7673\n",
      "Epoch 40/50\n",
      "21367/21367 [==============================] - 43s 2ms/sample - loss: 9.8258e-04 - accuracy: 0.9997 - val_loss: 2.5143 - val_accuracy: 0.7623\n",
      "Epoch 41/50\n",
      "21367/21367 [==============================] - 43s 2ms/sample - loss: 3.7143e-04 - accuracy: 1.0000 - val_loss: 2.8582 - val_accuracy: 0.7602\n",
      "Epoch 42/50\n",
      "21367/21367 [==============================] - 43s 2ms/sample - loss: 7.5334e-04 - accuracy: 0.9997 - val_loss: 2.7401 - val_accuracy: 0.7602\n",
      "Epoch 43/50\n",
      "21367/21367 [==============================] - 44s 2ms/sample - loss: 6.0912e-04 - accuracy: 0.9999 - val_loss: 2.9827 - val_accuracy: 0.7580\n",
      "Epoch 44/50\n",
      "21367/21367 [==============================] - 45s 2ms/sample - loss: 0.0056 - accuracy: 0.9981 - val_loss: 2.4626 - val_accuracy: 0.7615\n",
      "Epoch 45/50\n",
      "21367/21367 [==============================] - 44s 2ms/sample - loss: 0.0047 - accuracy: 0.9981 - val_loss: 2.4835 - val_accuracy: 0.7630\n",
      "Epoch 46/50\n",
      "21367/21367 [==============================] - 41s 2ms/sample - loss: 0.0024 - accuracy: 0.9993 - val_loss: 2.3860 - val_accuracy: 0.7690\n",
      "Epoch 47/50\n",
      "21367/21367 [==============================] - 41s 2ms/sample - loss: 0.0011 - accuracy: 0.9996 - val_loss: 2.5587 - val_accuracy: 0.7679\n",
      "Epoch 48/50\n",
      "21367/21367 [==============================] - 41s 2ms/sample - loss: 6.3585e-04 - accuracy: 0.9999 - val_loss: 2.7049 - val_accuracy: 0.7703\n",
      "Epoch 49/50\n",
      "21367/21367 [==============================] - 41s 2ms/sample - loss: 7.0412e-04 - accuracy: 0.9997 - val_loss: 2.7177 - val_accuracy: 0.7660\n",
      "Epoch 50/50\n",
      "21367/21367 [==============================] - 41s 2ms/sample - loss: 7.9087e-04 - accuracy: 0.9997 - val_loss: 2.7267 - val_accuracy: 0.7653\n"
     ]
    }
   ],
   "source": [
    "#train the model\n",
    "trained_model = model.fit(x=X_train_pad_sequences,\n",
    "                          y=y_train,\n",
    "                          batch_size=32,\n",
    "                          epochs=50,\n",
    "                          validation_data=(X_test_pad_sequences, y_test))"
   ]
  },
  {
   "cell_type": "code",
   "execution_count": 88,
   "metadata": {},
   "outputs": [],
   "source": [
    "# save the entire model as HDF5\n",
    "model.save('sarcasm_model.h5')"
   ]
  },
  {
   "cell_type": "code",
   "execution_count": 91,
   "metadata": {},
   "outputs": [],
   "source": [
    "# let's plot training/validation loss/accuracy\n",
    "def plot(model, category, epochs): \n",
    "    fig = plt.figure()\n",
    "    ax = fig.add_subplot(1, 1, 1)\n",
    "    x = range(epochs)\n",
    "    ax.plot(x, model.history.get(category), color='tab:blue')\n",
    "    ax.plot(x, model.history.get('val_'+category), color='tab:red')\n",
    "    plt.xlabel('epochs')\n",
    "    plt.ylabel('loss')\n",
    "    plt.legend(['train_'+category, 'validation_'+category])\n",
    "    plt.show()"
   ]
  },
  {
   "cell_type": "code",
   "execution_count": 92,
   "metadata": {},
   "outputs": [
    {
     "data": {
      "image/png": "[encoded data removed]",
      "text/plain": [
       "<Figure size 432x288 with 1 Axes>"
      ]
     },
     "metadata": {
      "needs_background": "light"
     },
     "output_type": "display_data"
    }
   ],
   "source": [
    "plot(trained_model, 'loss', 50)"
   ]
  },
  {
   "cell_type": "code",
   "execution_count": 93,
   "metadata": {},
   "outputs": [
    {
     "data": {
      "image/png": "[encoded data removed]",
      "text/plain": [
       "<Figure size 432x288 with 1 Axes>"
      ]
     },
     "metadata": {
      "needs_background": "light"
     },
     "output_type": "display_data"
    }
   ],
   "source": [
    "plot(trained_model, 'accuracy', 50)"
   ]
  },
  {
   "cell_type": "code",
   "execution_count": 94,
   "metadata": {},
   "outputs": [],
   "source": [
    "#As we see from above trainibg/validation accuracy and loss plots, there seems to be overfitting.\n",
    "#We can try out different combination of vocab size, max length and embedding dimenstion.\n",
    "#we may also use Dropouts to reduce overfitting "
   ]
  },
  {
   "cell_type": "code",
   "execution_count": null,
   "metadata": {},
   "outputs": [],
   "source": []
  }
 ],
 "metadata": {
  "kernelspec": {
   "display_name": "Python 3",
   "language": "python",
   "name": "python3"
  },
  "language_info": {
   "codemirror_mode": {
    "name": "ipython",
    "version": 3
   },
   "file_extension": ".py",
   "mimetype": "text/x-python",
   "name": "python",
   "nbconvert_exporter": "python",
   "pygments_lexer": "ipython3",
   "version": "3.7.9"
  }
 },
 "nbformat": 4,
 "nbformat_minor": 4
}
